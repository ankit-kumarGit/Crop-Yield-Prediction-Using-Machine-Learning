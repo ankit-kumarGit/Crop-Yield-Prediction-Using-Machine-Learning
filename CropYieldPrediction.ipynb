{
 "cells": [
  {
   "cell_type": "markdown",
   "id": "f43aedb7-3312-4a7a-b7ba-e4b684a7d7bc",
   "metadata": {},
   "source": [
    "# Crop Yield Prediction Using Machine Learning Based on Weather and Soil Parameters"
   ]
  },
  {
   "cell_type": "code",
   "execution_count": 1,
   "id": "44128901-2750-4c6e-92ef-f95f168be3bb",
   "metadata": {},
   "outputs": [],
   "source": [
    "import numpy as np\n",
    "import pandas as pd"
   ]
  },
  {
   "cell_type": "code",
   "execution_count": 2,
   "id": "0e9afc6a-306e-4683-91c5-953060bf01a7",
   "metadata": {},
   "outputs": [
    {
     "name": "stdout",
     "output_type": "stream",
     "text": [
      "   Fertilizer  temp     N     P     K  yeild\n",
      "0        80.0  28.0  80.0  24.0  20.0   12.0\n",
      "1        77.0  27.0  78.0  23.0  20.0   12.0\n",
      "2        80.0  26.0  80.0  24.0  20.0   12.0\n",
      "3        80.0  28.0  80.0  24.0  20.0   12.0\n",
      "4        78.0  27.0  78.0  23.0  19.0   12.0\n",
      "<class 'pandas.core.frame.DataFrame'>\n",
      "RangeIndex: 2596 entries, 0 to 2595\n",
      "Data columns (total 6 columns):\n",
      " #   Column      Non-Null Count  Dtype  \n",
      "---  ------      --------------  -----  \n",
      " 0   Fertilizer  2596 non-null   float64\n",
      " 1   temp        2596 non-null   float64\n",
      " 2   N           2596 non-null   float64\n",
      " 3   P           2596 non-null   float64\n",
      " 4   K           2596 non-null   float64\n",
      " 5   yeild       2596 non-null   float64\n",
      "dtypes: float64(6)\n",
      "memory usage: 121.8 KB\n",
      "None\n"
     ]
    }
   ],
   "source": [
    "# Loading Dataset\n",
    "df = pd.read_csv('crop_yield_dataset.csv')\n",
    "print(df.head())\n",
    "print(df.info())"
   ]
  },
  {
   "cell_type": "code",
   "execution_count": 3,
   "id": "04b3d633-d1d0-4a53-82fb-0be9ae2efa5f",
   "metadata": {},
   "outputs": [
    {
     "name": "stdout",
     "output_type": "stream",
     "text": [
      "Fertilizer    0\n",
      "temp          0\n",
      "N             0\n",
      "P             0\n",
      "K             0\n",
      "yeild         0\n",
      "dtype: int64\n"
     ]
    }
   ],
   "source": [
    "# Check for missing values\n",
    "print(df.isnull().sum())"
   ]
  },
  {
   "cell_type": "code",
   "execution_count": 4,
   "id": "dcd633f5-3acc-4d88-97b8-9bbae2fdaf98",
   "metadata": {},
   "outputs": [],
   "source": [
    "# rename the column yeild to yield\n",
    "df.rename(columns={\"yeild\": \"yield\"}, inplace=True)"
   ]
  },
  {
   "cell_type": "code",
   "execution_count": 5,
   "id": "b7bac2f7-148e-4cb8-b4ab-c8c346e3514f",
   "metadata": {},
   "outputs": [
    {
     "name": "stdout",
     "output_type": "stream",
     "text": [
      "   Fertilizer  temp     N     P     K  yield\n",
      "0        80.0  28.0  80.0  24.0  20.0   12.0\n",
      "1        77.0  27.0  78.0  23.0  20.0   12.0\n",
      "2        80.0  26.0  80.0  24.0  20.0   12.0\n",
      "3        80.0  28.0  80.0  24.0  20.0   12.0\n",
      "4        78.0  27.0  78.0  23.0  19.0   12.0\n"
     ]
    }
   ],
   "source": [
    "print(df.head())"
   ]
  },
  {
   "cell_type": "code",
   "execution_count": 6,
   "id": "74b8025d-03fc-41ab-8d2f-ba684b8e0456",
   "metadata": {},
   "outputs": [
    {
     "data": {
      "text/plain": [
       "0    False\n",
       "1    False\n",
       "2    False\n",
       "3     True\n",
       "4    False\n",
       "dtype: bool"
      ]
     },
     "execution_count": 6,
     "metadata": {},
     "output_type": "execute_result"
    }
   ],
   "source": [
    "# Checking for duplicates\n",
    "df.duplicated().head()"
   ]
  },
  {
   "cell_type": "code",
   "execution_count": 7,
   "id": "9579de68-51f7-45cb-93d1-90fb9c6221dc",
   "metadata": {},
   "outputs": [
    {
     "data": {
      "text/plain": [
       "np.int64(11)"
      ]
     },
     "execution_count": 7,
     "metadata": {},
     "output_type": "execute_result"
    }
   ],
   "source": [
    "# Count total duplicates\n",
    "df.duplicated().sum()"
   ]
  },
  {
   "cell_type": "code",
   "execution_count": 8,
   "id": "5785470c-dbbd-4412-bc1c-2abdb316a6f1",
   "metadata": {},
   "outputs": [
    {
     "data": {
      "text/html": [
       "<div>\n",
       "<style scoped>\n",
       "    .dataframe tbody tr th:only-of-type {\n",
       "        vertical-align: middle;\n",
       "    }\n",
       "\n",
       "    .dataframe tbody tr th {\n",
       "        vertical-align: top;\n",
       "    }\n",
       "\n",
       "    .dataframe thead th {\n",
       "        text-align: right;\n",
       "    }\n",
       "</style>\n",
       "<table border=\"1\" class=\"dataframe\">\n",
       "  <thead>\n",
       "    <tr style=\"text-align: right;\">\n",
       "      <th></th>\n",
       "      <th>Fertilizer</th>\n",
       "      <th>temp</th>\n",
       "      <th>N</th>\n",
       "      <th>P</th>\n",
       "      <th>K</th>\n",
       "      <th>yield</th>\n",
       "    </tr>\n",
       "  </thead>\n",
       "  <tbody>\n",
       "    <tr>\n",
       "      <th>3</th>\n",
       "      <td>80.0</td>\n",
       "      <td>28.0</td>\n",
       "      <td>80.0</td>\n",
       "      <td>24.0</td>\n",
       "      <td>20.0</td>\n",
       "      <td>12.0</td>\n",
       "    </tr>\n",
       "    <tr>\n",
       "      <th>5</th>\n",
       "      <td>80.0</td>\n",
       "      <td>28.0</td>\n",
       "      <td>80.0</td>\n",
       "      <td>24.0</td>\n",
       "      <td>20.0</td>\n",
       "      <td>12.0</td>\n",
       "    </tr>\n",
       "    <tr>\n",
       "      <th>205</th>\n",
       "      <td>65.0</td>\n",
       "      <td>38.0</td>\n",
       "      <td>60.0</td>\n",
       "      <td>20.0</td>\n",
       "      <td>16.0</td>\n",
       "      <td>8.0</td>\n",
       "    </tr>\n",
       "    <tr>\n",
       "      <th>406</th>\n",
       "      <td>76.0</td>\n",
       "      <td>26.0</td>\n",
       "      <td>75.0</td>\n",
       "      <td>24.0</td>\n",
       "      <td>19.0</td>\n",
       "      <td>11.0</td>\n",
       "    </tr>\n",
       "    <tr>\n",
       "      <th>599</th>\n",
       "      <td>50.0</td>\n",
       "      <td>37.0</td>\n",
       "      <td>65.0</td>\n",
       "      <td>18.0</td>\n",
       "      <td>19.0</td>\n",
       "      <td>9.0</td>\n",
       "    </tr>\n",
       "    <tr>\n",
       "      <th>600</th>\n",
       "      <td>50.0</td>\n",
       "      <td>37.0</td>\n",
       "      <td>65.0</td>\n",
       "      <td>18.0</td>\n",
       "      <td>19.0</td>\n",
       "      <td>9.0</td>\n",
       "    </tr>\n",
       "    <tr>\n",
       "      <th>801</th>\n",
       "      <td>73.0</td>\n",
       "      <td>29.0</td>\n",
       "      <td>73.0</td>\n",
       "      <td>23.0</td>\n",
       "      <td>20.0</td>\n",
       "      <td>10.0</td>\n",
       "    </tr>\n",
       "    <tr>\n",
       "      <th>802</th>\n",
       "      <td>70.0</td>\n",
       "      <td>24.0</td>\n",
       "      <td>70.0</td>\n",
       "      <td>22.0</td>\n",
       "      <td>18.0</td>\n",
       "      <td>10.0</td>\n",
       "    </tr>\n",
       "    <tr>\n",
       "      <th>809</th>\n",
       "      <td>77.0</td>\n",
       "      <td>28.0</td>\n",
       "      <td>76.0</td>\n",
       "      <td>22.0</td>\n",
       "      <td>19.0</td>\n",
       "      <td>10.0</td>\n",
       "    </tr>\n",
       "    <tr>\n",
       "      <th>1001</th>\n",
       "      <td>55.0</td>\n",
       "      <td>38.0</td>\n",
       "      <td>65.0</td>\n",
       "      <td>19.0</td>\n",
       "      <td>17.0</td>\n",
       "      <td>7.0</td>\n",
       "    </tr>\n",
       "    <tr>\n",
       "      <th>1200</th>\n",
       "      <td>60.0</td>\n",
       "      <td>39.0</td>\n",
       "      <td>60.0</td>\n",
       "      <td>18.0</td>\n",
       "      <td>15.0</td>\n",
       "      <td>6.0</td>\n",
       "    </tr>\n",
       "  </tbody>\n",
       "</table>\n",
       "</div>"
      ],
      "text/plain": [
       "      Fertilizer  temp     N     P     K  yield\n",
       "3           80.0  28.0  80.0  24.0  20.0   12.0\n",
       "5           80.0  28.0  80.0  24.0  20.0   12.0\n",
       "205         65.0  38.0  60.0  20.0  16.0    8.0\n",
       "406         76.0  26.0  75.0  24.0  19.0   11.0\n",
       "599         50.0  37.0  65.0  18.0  19.0    9.0\n",
       "600         50.0  37.0  65.0  18.0  19.0    9.0\n",
       "801         73.0  29.0  73.0  23.0  20.0   10.0\n",
       "802         70.0  24.0  70.0  22.0  18.0   10.0\n",
       "809         77.0  28.0  76.0  22.0  19.0   10.0\n",
       "1001        55.0  38.0  65.0  19.0  17.0    7.0\n",
       "1200        60.0  39.0  60.0  18.0  15.0    6.0"
      ]
     },
     "execution_count": 8,
     "metadata": {},
     "output_type": "execute_result"
    }
   ],
   "source": [
    "# displays all duplicate rows\n",
    "df[df.duplicated()]"
   ]
  },
  {
   "cell_type": "code",
   "execution_count": 9,
   "id": "445d0ea5-5db4-4d4a-9bcf-4c4fcfb2b21c",
   "metadata": {},
   "outputs": [],
   "source": [
    "# remove duplicates\n",
    "df.drop_duplicates(inplace=True)"
   ]
  },
  {
   "cell_type": "markdown",
   "id": "560c1098-563b-4c72-b824-0daed9389735",
   "metadata": {},
   "source": [
    "##### Now duplicates has been removed, just im checking once again my duplicates data"
   ]
  },
  {
   "cell_type": "code",
   "execution_count": 10,
   "id": "34e8f059-4c50-4f60-81e1-59adb5001036",
   "metadata": {},
   "outputs": [
    {
     "data": {
      "text/plain": [
       "0    False\n",
       "1    False\n",
       "2    False\n",
       "4    False\n",
       "6    False\n",
       "dtype: bool"
      ]
     },
     "execution_count": 10,
     "metadata": {},
     "output_type": "execute_result"
    }
   ],
   "source": [
    "df.duplicated().head()"
   ]
  },
  {
   "cell_type": "code",
   "execution_count": 11,
   "id": "113df2da-3289-4c01-a084-3026baea6d1e",
   "metadata": {},
   "outputs": [
    {
     "data": {
      "text/html": [
       "<div>\n",
       "<style scoped>\n",
       "    .dataframe tbody tr th:only-of-type {\n",
       "        vertical-align: middle;\n",
       "    }\n",
       "\n",
       "    .dataframe tbody tr th {\n",
       "        vertical-align: top;\n",
       "    }\n",
       "\n",
       "    .dataframe thead th {\n",
       "        text-align: right;\n",
       "    }\n",
       "</style>\n",
       "<table border=\"1\" class=\"dataframe\">\n",
       "  <thead>\n",
       "    <tr style=\"text-align: right;\">\n",
       "      <th></th>\n",
       "      <th>Fertilizer</th>\n",
       "      <th>temp</th>\n",
       "      <th>N</th>\n",
       "      <th>P</th>\n",
       "      <th>K</th>\n",
       "      <th>yield</th>\n",
       "    </tr>\n",
       "  </thead>\n",
       "  <tbody>\n",
       "  </tbody>\n",
       "</table>\n",
       "</div>"
      ],
      "text/plain": [
       "Empty DataFrame\n",
       "Columns: [Fertilizer, temp, N, P, K, yield]\n",
       "Index: []"
      ]
     },
     "execution_count": 11,
     "metadata": {},
     "output_type": "execute_result"
    }
   ],
   "source": [
    "# displays all duplicate rows\n",
    "df[df.duplicated()]"
   ]
  },
  {
   "cell_type": "markdown",
   "id": "2e56fea1-051b-41c5-b2b5-52a7b762e3a1",
   "metadata": {},
   "source": [
    "##### No duplicate data in my dataset now"
   ]
  },
  {
   "cell_type": "markdown",
   "id": "b2331344-2032-4e51-a4ab-03aad60af20d",
   "metadata": {},
   "source": [
    "## Check for Outliers"
   ]
  },
  {
   "cell_type": "code",
   "execution_count": 12,
   "id": "5ffc91c5-c5bf-440d-b868-9335d4d24e21",
   "metadata": {},
   "outputs": [],
   "source": [
    "import matplotlib.pyplot as plt"
   ]
  },
  {
   "cell_type": "code",
   "execution_count": 13,
   "id": "76cdc089-cf40-41c6-9585-484035a15bc3",
   "metadata": {},
   "outputs": [
    {
     "data": {
      "image/png": "[encoded data removed]",
      "text/plain": [
       "<Figure size 1000x600 with 1 Axes>"
      ]
     },
     "metadata": {},
     "output_type": "display_data"
    }
   ],
   "source": [
    "# plot boxplot for each numeric column\n",
    "df[['Fertilizer', 'temp', 'N', 'P', 'K', 'yield']].boxplot(figsize=(10,6))\n",
    "plt.title(\"Boxplots for detecting outliers\")\n",
    "plt.show()"
   ]
  },
  {
   "cell_type": "code",
   "execution_count": 14,
   "id": "510d82e2-c877-41af-898f-2e88d2a89d72",
   "metadata": {},
   "outputs": [
    {
     "name": "stdout",
     "output_type": "stream",
     "text": [
      "Empty DataFrame\n",
      "Columns: [Fertilizer, temp, N, P, K, yield]\n",
      "Index: []\n"
     ]
    }
   ],
   "source": [
    "# calculate z-scores\n",
    "z = (df - df.mean()) / df.std()\n",
    "# identify rows with outliers\n",
    "outliers = df[(np.abs(z) > 3).any(axis=1)]\n",
    "print(outliers)"
   ]
  },
  {
   "cell_type": "markdown",
   "id": "d79e0fd9-de61-416f-a9ca-8b09e94f2d56",
   "metadata": {},
   "source": [
    "##### There is no outliers in my dataset"
   ]
  },
  {
   "cell_type": "markdown",
   "id": "dbd42b79-7476-4392-93ee-b9c638bd7439",
   "metadata": {},
   "source": [
    "## Feature Scaling"
   ]
  },
  {
   "cell_type": "code",
   "execution_count": 15,
   "id": "1b91021c-7340-4911-b288-b0a33b5321d7",
   "metadata": {},
   "outputs": [],
   "source": [
    "from sklearn.preprocessing import StandardScaler, MinMaxScaler, LabelEncoder"
   ]
  },
  {
   "cell_type": "code",
   "execution_count": 16,
   "id": "519ee08b-1ac5-4bbf-94b1-17be75a0994d",
   "metadata": {},
   "outputs": [],
   "source": [
    "cat_cols = df.select_dtypes(include=[\"object\"]).columns"
   ]
  },
  {
   "cell_type": "code",
   "execution_count": 19,
   "id": "027f068d-bf68-451c-bd7e-fb87cfffee36",
   "metadata": {},
   "outputs": [
    {
     "data": {
      "text/plain": [
       "Index([], dtype='object')"
      ]
     },
     "execution_count": 19,
     "metadata": {},
     "output_type": "execute_result"
    }
   ],
   "source": [
    "cat_cols"
   ]
  },
  {
   "cell_type": "code",
   "execution_count": 20,
   "id": "6bb8a61e-895c-46e1-bcb3-50e5990642c4",
   "metadata": {},
   "outputs": [],
   "source": [
    "# Label Encoding for categorical columns\n",
    "le = LabelEncoder()\n",
    "for col in cat_cols:\n",
    "    df[col] = le.fit_transform(df[col])"
   ]
  },
  {
   "cell_type": "code",
   "execution_count": 21,
   "id": "4d301b77-5627-44e2-84fb-b9aea019b0b5",
   "metadata": {},
   "outputs": [
    {
     "name": "stdout",
     "output_type": "stream",
     "text": [
      "Numeric Columns: Index(['Fertilizer', 'temp', 'N', 'P', 'K', 'yield'], dtype='object')\n"
     ]
    }
   ],
   "source": [
    "# Feature Scaling for numeric columns\n",
    "num_cols = df.select_dtypes(include=[\"int64\", \"float64\"]).columns"
   ]
  },
  {
   "cell_type": "code",
   "execution_count": 23,
   "id": "1346a35a-d448-4aeb-8508-0f1ed5ac433e",
   "metadata": {},
   "outputs": [],
   "source": [
    "# Standard Scaling (Z-score normalization: mean=0, std=1)\n",
    "scaler = StandardScaler()\n",
    "df[num_cols] = scaler.fit_transform(df[num_cols])"
   ]
  },
  {
   "cell_type": "code",
   "execution_count": 24,
   "id": "d3c8c057-f509-43c4-9034-d873b782c73f",
   "metadata": {},
   "outputs": [
    {
     "data": {
      "text/html": [
       "<div>\n",
       "<style scoped>\n",
       "    .dataframe tbody tr th:only-of-type {\n",
       "        vertical-align: middle;\n",
       "    }\n",
       "\n",
       "    .dataframe tbody tr th {\n",
       "        vertical-align: top;\n",
       "    }\n",
       "\n",
       "    .dataframe thead th {\n",
       "        text-align: right;\n",
       "    }\n",
       "</style>\n",
       "<table border=\"1\" class=\"dataframe\">\n",
       "  <thead>\n",
       "    <tr style=\"text-align: right;\">\n",
       "      <th></th>\n",
       "      <th>Fertilizer</th>\n",
       "      <th>temp</th>\n",
       "      <th>N</th>\n",
       "      <th>P</th>\n",
       "      <th>K</th>\n",
       "      <th>yield</th>\n",
       "    </tr>\n",
       "  </thead>\n",
       "  <tbody>\n",
       "    <tr>\n",
       "      <th>0</th>\n",
       "      <td>1.387524</td>\n",
       "      <td>-1.090827</td>\n",
       "      <td>1.540896</td>\n",
       "      <td>1.671189</td>\n",
       "      <td>1.131662</td>\n",
       "      <td>1.790605</td>\n",
       "    </tr>\n",
       "    <tr>\n",
       "      <th>1</th>\n",
       "      <td>1.079513</td>\n",
       "      <td>-1.277099</td>\n",
       "      <td>1.246796</td>\n",
       "      <td>1.163759</td>\n",
       "      <td>1.131662</td>\n",
       "      <td>1.790605</td>\n",
       "    </tr>\n",
       "    <tr>\n",
       "      <th>2</th>\n",
       "      <td>1.387524</td>\n",
       "      <td>-1.463371</td>\n",
       "      <td>1.540896</td>\n",
       "      <td>1.671189</td>\n",
       "      <td>1.131662</td>\n",
       "      <td>1.790605</td>\n",
       "    </tr>\n",
       "    <tr>\n",
       "      <th>4</th>\n",
       "      <td>1.182183</td>\n",
       "      <td>-1.277099</td>\n",
       "      <td>1.246796</td>\n",
       "      <td>1.163759</td>\n",
       "      <td>0.616357</td>\n",
       "      <td>1.790605</td>\n",
       "    </tr>\n",
       "    <tr>\n",
       "      <th>6</th>\n",
       "      <td>0.874172</td>\n",
       "      <td>-1.463371</td>\n",
       "      <td>0.805647</td>\n",
       "      <td>0.656328</td>\n",
       "      <td>0.616357</td>\n",
       "      <td>1.790605</td>\n",
       "    </tr>\n",
       "    <tr>\n",
       "      <th>...</th>\n",
       "      <td>...</td>\n",
       "      <td>...</td>\n",
       "      <td>...</td>\n",
       "      <td>...</td>\n",
       "      <td>...</td>\n",
       "      <td>...</td>\n",
       "    </tr>\n",
       "    <tr>\n",
       "      <th>2591</th>\n",
       "      <td>1.278969</td>\n",
       "      <td>-1.274373</td>\n",
       "      <td>1.075970</td>\n",
       "      <td>1.208213</td>\n",
       "      <td>1.154441</td>\n",
       "      <td>0.938413</td>\n",
       "    </tr>\n",
       "    <tr>\n",
       "      <th>2592</th>\n",
       "      <td>1.292796</td>\n",
       "      <td>-1.248576</td>\n",
       "      <td>1.089109</td>\n",
       "      <td>1.198383</td>\n",
       "      <td>1.211759</td>\n",
       "      <td>1.031099</td>\n",
       "    </tr>\n",
       "    <tr>\n",
       "      <th>2593</th>\n",
       "      <td>1.283444</td>\n",
       "      <td>-1.070533</td>\n",
       "      <td>1.123915</td>\n",
       "      <td>1.094572</td>\n",
       "      <td>1.641746</td>\n",
       "      <td>1.049718</td>\n",
       "    </tr>\n",
       "    <tr>\n",
       "      <th>2594</th>\n",
       "      <td>1.274049</td>\n",
       "      <td>-1.064499</td>\n",
       "      <td>1.088740</td>\n",
       "      <td>1.200067</td>\n",
       "      <td>1.581864</td>\n",
       "      <td>0.986923</td>\n",
       "    </tr>\n",
       "    <tr>\n",
       "      <th>2595</th>\n",
       "      <td>1.290018</td>\n",
       "      <td>-1.280663</td>\n",
       "      <td>1.118092</td>\n",
       "      <td>1.189230</td>\n",
       "      <td>1.111408</td>\n",
       "      <td>1.060261</td>\n",
       "    </tr>\n",
       "  </tbody>\n",
       "</table>\n",
       "<p>2585 rows × 6 columns</p>\n",
       "</div>"
      ],
      "text/plain": [
       "      Fertilizer      temp         N         P         K     yield\n",
       "0       1.387524 -1.090827  1.540896  1.671189  1.131662  1.790605\n",
       "1       1.079513 -1.277099  1.246796  1.163759  1.131662  1.790605\n",
       "2       1.387524 -1.463371  1.540896  1.671189  1.131662  1.790605\n",
       "4       1.182183 -1.277099  1.246796  1.163759  0.616357  1.790605\n",
       "6       0.874172 -1.463371  0.805647  0.656328  0.616357  1.790605\n",
       "...          ...       ...       ...       ...       ...       ...\n",
       "2591    1.278969 -1.274373  1.075970  1.208213  1.154441  0.938413\n",
       "2592    1.292796 -1.248576  1.089109  1.198383  1.211759  1.031099\n",
       "2593    1.283444 -1.070533  1.123915  1.094572  1.641746  1.049718\n",
       "2594    1.274049 -1.064499  1.088740  1.200067  1.581864  0.986923\n",
       "2595    1.290018 -1.280663  1.118092  1.189230  1.111408  1.060261\n",
       "\n",
       "[2585 rows x 6 columns]"
      ]
     },
     "execution_count": 24,
     "metadata": {},
     "output_type": "execute_result"
    }
   ],
   "source": [
    "df"
   ]
  },
  {
   "cell_type": "markdown",
   "id": "e8b4bcb3-5684-484b-bae0-1af5617a0754",
   "metadata": {},
   "source": [
    "# Split Data"
   ]
  },
  {
   "cell_type": "code",
   "execution_count": 25,
   "id": "3789e90d-e395-4ac7-9c5a-dab19747a992",
   "metadata": {},
   "outputs": [],
   "source": [
    "from sklearn.model_selection import train_test_split\n",
    "\n",
    "X = df.drop(\"yield\", axis=1)\n",
    "y = df[\"yield\"]\n",
    "\n",
    "X_train, X_test, y_train, y_test = train_test_split(X, y, test_size=0.2, random_state=42)\n"
   ]
  },
  {
   "cell_type": "code",
   "execution_count": 26,
   "id": "e4068955-566a-41d0-8b47-9e8dc6f476e3",
   "metadata": {},
   "outputs": [],
   "source": [
    "from sklearn.linear_model import LinearRegression\n",
    "from sklearn.tree import DecisionTreeRegressor\n",
    "from sklearn.ensemble import RandomForestRegressor\n",
    "from sklearn.metrics import mean_absolute_error, mean_squared_error, r2_score\n",
    "\n",
    "# Example with Random Forest\n",
    "model = RandomForestRegressor(random_state=42)\n",
    "model.fit(X_train, y_train)\n",
    "\n",
    "y_pred = model.predict(X_test)\n"
   ]
  },
  {
   "cell_type": "code",
   "execution_count": 27,
   "id": "0efc9cf7-82db-43cc-b56b-fb825f3d95d8",
   "metadata": {},
   "outputs": [
    {
     "name": "stdout",
     "output_type": "stream",
     "text": [
      "MAE: 0.06240893420959492\n",
      "RMSE: 0.0947945931717156\n",
      "R² Score: 0.9909442527703973\n"
     ]
    }
   ],
   "source": [
    "mae = mean_absolute_error(y_test, y_pred)\n",
    "rmse = np.sqrt(mean_squared_error(y_test, y_pred))\n",
    "r2 = r2_score(y_test, y_pred)\n",
    "\n",
    "print(\"MAE:\", mae)\n",
    "print(\"RMSE:\", rmse)\n",
    "print(\"R² Score:\", r2)\n"
   ]
  },
  {
   "cell_type": "code",
   "execution_count": 28,
   "id": "3353bbec-74a8-45cb-8aa3-5978cfd1fac8",
   "metadata": {},
   "outputs": [
    {
     "data": {
      "image/png": "[encoded data removed]",
      "text/plain": [
       "<Figure size 640x480 with 1 Axes>"
      ]
     },
     "metadata": {},
     "output_type": "display_data"
    }
   ],
   "source": [
    "import matplotlib.pyplot as plt\n",
    "\n",
    "plt.scatter(y_test, y_pred)\n",
    "plt.xlabel(\"Actual Yield\")\n",
    "plt.ylabel(\"Predicted Yield\")\n",
    "plt.title(\"Actual vs Predicted Yield\")\n",
    "plt.show()\n"
   ]
  },
  {
   "cell_type": "code",
   "execution_count": 33,
   "id": "86682ca7-3ed8-4a61-a91a-9a3e9bb89090",
   "metadata": {},
   "outputs": [
    {
     "name": "stdout",
     "output_type": "stream",
     "text": [
      "                        MAE      RMSE        R²\n",
      "Linear Regression  0.295143  0.356906  0.871630\n",
      "Decision Tree      0.076701  0.118778  0.985782\n",
      "Random Forest      0.062409  0.094795  0.990944\n"
     ]
    }
   ],
   "source": [
    "from sklearn.model_selection import train_test_split\n",
    "from sklearn.metrics import mean_absolute_error, mean_squared_error, r2_score\n",
    "\n",
    "# Models\n",
    "from sklearn.linear_model import LinearRegression\n",
    "from sklearn.tree import DecisionTreeRegressor\n",
    "from sklearn.ensemble import RandomForestRegressor\n",
    "\n",
    "# Split features and target\n",
    "X = df.drop(\"yield\", axis=1)\n",
    "y = df[\"yield\"]\n",
    "\n",
    "X_train, X_test, y_train, y_test = train_test_split(X, y, test_size=0.2, random_state=42)\n",
    "\n",
    "# Dictionary of models\n",
    "models = {\n",
    "    \"Linear Regression\": LinearRegression(),\n",
    "    \"Decision Tree\": DecisionTreeRegressor(random_state=42),\n",
    "    \"Random Forest\": RandomForestRegressor(random_state=42)\n",
    "}\n",
    "\n",
    "results = {}\n",
    "\n",
    "# Train and evaluate each model\n",
    "for name, model in models.items():\n",
    "    model.fit(X_train, y_train)\n",
    "    y_pred = model.predict(X_test)\n",
    "    \n",
    "    mae = mean_absolute_error(y_test, y_pred)\n",
    "    rmse = np.sqrt(mean_squared_error(y_test, y_pred))\n",
    "    r2 = r2_score(y_test, y_pred)\n",
    "    \n",
    "    results[name] = {\"MAE\": mae, \"RMSE\": rmse, \"R²\": r2}\n",
    "\n",
    "# Convert results to DataFrame for comparison\n",
    "results_df = pd.DataFrame(results).T\n",
    "print(results_df)\n"
   ]
  },
  {
   "cell_type": "code",
   "execution_count": 37,
   "id": "915bde1e-a4db-422a-99e7-ae0144dfa08f",
   "metadata": {},
   "outputs": [
    {
     "data": {
      "image/png": "[encoded data removed]",
      "text/plain": [
       "<Figure size 800x500 with 1 Axes>"
      ]
     },
     "metadata": {},
     "output_type": "display_data"
    },
    {
     "data": {
      "text/html": [
       "<div>\n",
       "<style scoped>\n",
       "    .dataframe tbody tr th:only-of-type {\n",
       "        vertical-align: middle;\n",
       "    }\n",
       "\n",
       "    .dataframe tbody tr th {\n",
       "        vertical-align: top;\n",
       "    }\n",
       "\n",
       "    .dataframe thead th {\n",
       "        text-align: right;\n",
       "    }\n",
       "</style>\n",
       "<table border=\"1\" class=\"dataframe\">\n",
       "  <thead>\n",
       "    <tr style=\"text-align: right;\">\n",
       "      <th></th>\n",
       "      <th>Feature</th>\n",
       "      <th>Importance</th>\n",
       "    </tr>\n",
       "  </thead>\n",
       "  <tbody>\n",
       "    <tr>\n",
       "      <th>1</th>\n",
       "      <td>temp</td>\n",
       "      <td>0.758106</td>\n",
       "    </tr>\n",
       "    <tr>\n",
       "      <th>4</th>\n",
       "      <td>K</td>\n",
       "      <td>0.120772</td>\n",
       "    </tr>\n",
       "    <tr>\n",
       "      <th>2</th>\n",
       "      <td>N</td>\n",
       "      <td>0.055213</td>\n",
       "    </tr>\n",
       "    <tr>\n",
       "      <th>3</th>\n",
       "      <td>P</td>\n",
       "      <td>0.038124</td>\n",
       "    </tr>\n",
       "    <tr>\n",
       "      <th>0</th>\n",
       "      <td>Fertilizer</td>\n",
       "      <td>0.027786</td>\n",
       "    </tr>\n",
       "  </tbody>\n",
       "</table>\n",
       "</div>"
      ],
      "text/plain": [
       "      Feature  Importance\n",
       "1        temp    0.758106\n",
       "4           K    0.120772\n",
       "2           N    0.055213\n",
       "3           P    0.038124\n",
       "0  Fertilizer    0.027786"
      ]
     },
     "execution_count": 37,
     "metadata": {},
     "output_type": "execute_result"
    }
   ],
   "source": [
    "# Get feature importance from Random Forest\n",
    "importances = model.feature_importances_\n",
    "features = X.columns\n",
    "\n",
    "# Create DataFrame for better visualization\n",
    "feat_importances = pd.DataFrame({\n",
    "    'Feature': features,\n",
    "    'Importance': importances\n",
    "}).sort_values(by=\"Importance\", ascending=False)\n",
    "\n",
    "# Plot\n",
    "plt.figure(figsize=(8,5))\n",
    "plt.barh(feat_importances['Feature'], feat_importances['Importance'], color=\"skyblue\")\n",
    "plt.xlabel(\"Feature Importance\")\n",
    "plt.ylabel(\"Features\")\n",
    "plt.title(\"Random Forest Feature Importance for Crop Yield\")\n",
    "plt.gca().invert_yaxis()\n",
    "plt.show()\n",
    "\n",
    "feat_importances"
   ]
  },
  {
   "cell_type": "code",
   "execution_count": 39,
   "id": "31483d7e-d6b6-4a6a-91f2-469e2b3a78bb",
   "metadata": {},
   "outputs": [
    {
     "name": "stdout",
     "output_type": "stream",
     "text": [
      "fatal: not a git repository (or any of the parent directories): .git\n"
     ]
    }
   ],
   "source": [
    "!git add CropYieldPrediction.ipynb"
   ]
  },
  {
   "cell_type": "code",
   "execution_count": null,
   "id": "f82e802f-aebc-43ee-a73b-c3d787280271",
   "metadata": {},
   "outputs": [],
   "source": []
  },
  {
   "cell_type": "code",
   "execution_count": null,
   "id": "dcd838ed-c55e-4a9d-8829-58983ee86105",
   "metadata": {},
   "outputs": [],
   "source": []
  },
  {
   "cell_type": "code",
   "execution_count": null,
   "id": "9e5a52e6-4169-478b-847f-78b76a19a2bd",
   "metadata": {},
   "outputs": [],
   "source": []
  }
 ],
 "metadata": {
  "kernelspec": {
   "display_name": "Python 3 (ipykernel)",
   "language": "python",
   "name": "python3"
  },
  "language_info": {
   "codemirror_mode": {
    "name": "ipython",
    "version": 3
   },
   "file_extension": ".py",
   "mimetype": "text/x-python",
   "name": "python",
   "nbconvert_exporter": "python",
   "pygments_lexer": "ipython3",
   "version": "3.13.5"
  }
 },
 "nbformat": 4,
 "nbformat_minor": 5
}
