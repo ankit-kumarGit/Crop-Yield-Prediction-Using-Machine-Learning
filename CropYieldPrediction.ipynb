{
 "cells": [
  {
   "cell_type": "markdown",
   "id": "f43aedb7-3312-4a7a-b7ba-e4b684a7d7bc",
   "metadata": {},
   "source": [
    "# Crop Yield Prediction Using Machine Learning Based on Weather and Soil Parameters"
   ]
  },
  {
   "cell_type": "code",
   "execution_count": 1,
   "id": "44128901-2750-4c6e-92ef-f95f168be3bb",
   "metadata": {},
   "outputs": [],
   "source": [
    "import numpy as np\n",
    "import pandas as pd"
   ]
  },
  {
   "cell_type": "code",
   "execution_count": 6,
   "id": "0e9afc6a-306e-4683-91c5-953060bf01a7",
   "metadata": {},
   "outputs": [
    {
     "name": "stdout",
     "output_type": "stream",
     "text": [
      "   Fertilizer  temp     N     P     K  yeild\n",
      "0        80.0  28.0  80.0  24.0  20.0   12.0\n",
      "1        77.0  27.0  78.0  23.0  20.0   12.0\n",
      "2        80.0  26.0  80.0  24.0  20.0   12.0\n",
      "3        80.0  28.0  80.0  24.0  20.0   12.0\n",
      "4        78.0  27.0  78.0  23.0  19.0   12.0\n",
      "<class 'pandas.core.frame.DataFrame'>\n",
      "RangeIndex: 2596 entries, 0 to 2595\n",
      "Data columns (total 6 columns):\n",
      " #   Column      Non-Null Count  Dtype  \n",
      "---  ------      --------------  -----  \n",
      " 0   Fertilizer  2596 non-null   float64\n",
      " 1   temp        2596 non-null   float64\n",
      " 2   N           2596 non-null   float64\n",
      " 3   P           2596 non-null   float64\n",
      " 4   K           2596 non-null   float64\n",
      " 5   yeild       2596 non-null   float64\n",
      "dtypes: float64(6)\n",
      "memory usage: 121.8 KB\n",
      "None\n"
     ]
    }
   ],
   "source": [
    "# Loading Dataset\n",
    "df = pd.read_csv('crop_yield_dataset.csv')\n",
    "print(df.head())\n",
    "print(df.info())"
   ]
  },
  {
   "cell_type": "code",
   "execution_count": 7,
   "id": "04b3d633-d1d0-4a53-82fb-0be9ae2efa5f",
   "metadata": {},
   "outputs": [
    {
     "name": "stdout",
     "output_type": "stream",
     "text": [
      "Fertilizer    0\n",
      "temp          0\n",
      "N             0\n",
      "P             0\n",
      "K             0\n",
      "yeild         0\n",
      "dtype: int64\n"
     ]
    }
   ],
   "source": [
    "# Check for missing values\n",
    "print(df.isnull().sum())"
   ]
  },
  {
   "cell_type": "code",
   "execution_count": 8,
   "id": "dcd633f5-3acc-4d88-97b8-9bbae2fdaf98",
   "metadata": {},
   "outputs": [],
   "source": [
    "# rename the column yeild to yield\n",
    "df.rename(columns={\"yeild\": \"yield\"}, inplace=True)"
   ]
  },
  {
   "cell_type": "code",
   "execution_count": 9,
   "id": "b7bac2f7-148e-4cb8-b4ab-c8c346e3514f",
   "metadata": {},
   "outputs": [
    {
     "name": "stdout",
     "output_type": "stream",
     "text": [
      "   Fertilizer  temp     N     P     K  yield\n",
      "0        80.0  28.0  80.0  24.0  20.0   12.0\n",
      "1        77.0  27.0  78.0  23.0  20.0   12.0\n",
      "2        80.0  26.0  80.0  24.0  20.0   12.0\n",
      "3        80.0  28.0  80.0  24.0  20.0   12.0\n",
      "4        78.0  27.0  78.0  23.0  19.0   12.0\n"
     ]
    }
   ],
   "source": [
    "print(df.head())"
   ]
  },
  {
   "cell_type": "code",
   "execution_count": 10,
   "id": "74b8025d-03fc-41ab-8d2f-ba684b8e0456",
   "metadata": {},
   "outputs": [
    {
     "data": {
      "text/plain": [
       "0    False\n",
       "1    False\n",
       "2    False\n",
       "3     True\n",
       "4    False\n",
       "dtype: bool"
      ]
     },
     "execution_count": 10,
     "metadata": {},
     "output_type": "execute_result"
    }
   ],
   "source": [
    "# Checking for duplicates\n",
    "df.duplicated().head()"
   ]
  },
  {
   "cell_type": "code",
   "execution_count": 11,
   "id": "9579de68-51f7-45cb-93d1-90fb9c6221dc",
   "metadata": {},
   "outputs": [
    {
     "data": {
      "text/plain": [
       "np.int64(11)"
      ]
     },
     "execution_count": 11,
     "metadata": {},
     "output_type": "execute_result"
    }
   ],
   "source": [
    "# Count total duplicates\n",
    "df.duplicated().sum()"
   ]
  },
  {
   "cell_type": "code",
   "execution_count": 13,
   "id": "5785470c-dbbd-4412-bc1c-2abdb316a6f1",
   "metadata": {},
   "outputs": [
    {
     "data": {
      "text/html": [
       "<div>\n",
       "<style scoped>\n",
       "    .dataframe tbody tr th:only-of-type {\n",
       "        vertical-align: middle;\n",
       "    }\n",
       "\n",
       "    .dataframe tbody tr th {\n",
       "        vertical-align: top;\n",
       "    }\n",
       "\n",
       "    .dataframe thead th {\n",
       "        text-align: right;\n",
       "    }\n",
       "</style>\n",
       "<table border=\"1\" class=\"dataframe\">\n",
       "  <thead>\n",
       "    <tr style=\"text-align: right;\">\n",
       "      <th></th>\n",
       "      <th>Fertilizer</th>\n",
       "      <th>temp</th>\n",
       "      <th>N</th>\n",
       "      <th>P</th>\n",
       "      <th>K</th>\n",
       "      <th>yield</th>\n",
       "    </tr>\n",
       "  </thead>\n",
       "  <tbody>\n",
       "    <tr>\n",
       "      <th>3</th>\n",
       "      <td>80.0</td>\n",
       "      <td>28.0</td>\n",
       "      <td>80.0</td>\n",
       "      <td>24.0</td>\n",
       "      <td>20.0</td>\n",
       "      <td>12.0</td>\n",
       "    </tr>\n",
       "    <tr>\n",
       "      <th>5</th>\n",
       "      <td>80.0</td>\n",
       "      <td>28.0</td>\n",
       "      <td>80.0</td>\n",
       "      <td>24.0</td>\n",
       "      <td>20.0</td>\n",
       "      <td>12.0</td>\n",
       "    </tr>\n",
       "    <tr>\n",
       "      <th>205</th>\n",
       "      <td>65.0</td>\n",
       "      <td>38.0</td>\n",
       "      <td>60.0</td>\n",
       "      <td>20.0</td>\n",
       "      <td>16.0</td>\n",
       "      <td>8.0</td>\n",
       "    </tr>\n",
       "    <tr>\n",
       "      <th>406</th>\n",
       "      <td>76.0</td>\n",
       "      <td>26.0</td>\n",
       "      <td>75.0</td>\n",
       "      <td>24.0</td>\n",
       "      <td>19.0</td>\n",
       "      <td>11.0</td>\n",
       "    </tr>\n",
       "    <tr>\n",
       "      <th>599</th>\n",
       "      <td>50.0</td>\n",
       "      <td>37.0</td>\n",
       "      <td>65.0</td>\n",
       "      <td>18.0</td>\n",
       "      <td>19.0</td>\n",
       "      <td>9.0</td>\n",
       "    </tr>\n",
       "    <tr>\n",
       "      <th>600</th>\n",
       "      <td>50.0</td>\n",
       "      <td>37.0</td>\n",
       "      <td>65.0</td>\n",
       "      <td>18.0</td>\n",
       "      <td>19.0</td>\n",
       "      <td>9.0</td>\n",
       "    </tr>\n",
       "    <tr>\n",
       "      <th>801</th>\n",
       "      <td>73.0</td>\n",
       "      <td>29.0</td>\n",
       "      <td>73.0</td>\n",
       "      <td>23.0</td>\n",
       "      <td>20.0</td>\n",
       "      <td>10.0</td>\n",
       "    </tr>\n",
       "    <tr>\n",
       "      <th>802</th>\n",
       "      <td>70.0</td>\n",
       "      <td>24.0</td>\n",
       "      <td>70.0</td>\n",
       "      <td>22.0</td>\n",
       "      <td>18.0</td>\n",
       "      <td>10.0</td>\n",
       "    </tr>\n",
       "    <tr>\n",
       "      <th>809</th>\n",
       "      <td>77.0</td>\n",
       "      <td>28.0</td>\n",
       "      <td>76.0</td>\n",
       "      <td>22.0</td>\n",
       "      <td>19.0</td>\n",
       "      <td>10.0</td>\n",
       "    </tr>\n",
       "    <tr>\n",
       "      <th>1001</th>\n",
       "      <td>55.0</td>\n",
       "      <td>38.0</td>\n",
       "      <td>65.0</td>\n",
       "      <td>19.0</td>\n",
       "      <td>17.0</td>\n",
       "      <td>7.0</td>\n",
       "    </tr>\n",
       "    <tr>\n",
       "      <th>1200</th>\n",
       "      <td>60.0</td>\n",
       "      <td>39.0</td>\n",
       "      <td>60.0</td>\n",
       "      <td>18.0</td>\n",
       "      <td>15.0</td>\n",
       "      <td>6.0</td>\n",
       "    </tr>\n",
       "  </tbody>\n",
       "</table>\n",
       "</div>"
      ],
      "text/plain": [
       "      Fertilizer  temp     N     P     K  yield\n",
       "3           80.0  28.0  80.0  24.0  20.0   12.0\n",
       "5           80.0  28.0  80.0  24.0  20.0   12.0\n",
       "205         65.0  38.0  60.0  20.0  16.0    8.0\n",
       "406         76.0  26.0  75.0  24.0  19.0   11.0\n",
       "599         50.0  37.0  65.0  18.0  19.0    9.0\n",
       "600         50.0  37.0  65.0  18.0  19.0    9.0\n",
       "801         73.0  29.0  73.0  23.0  20.0   10.0\n",
       "802         70.0  24.0  70.0  22.0  18.0   10.0\n",
       "809         77.0  28.0  76.0  22.0  19.0   10.0\n",
       "1001        55.0  38.0  65.0  19.0  17.0    7.0\n",
       "1200        60.0  39.0  60.0  18.0  15.0    6.0"
      ]
     },
     "execution_count": 13,
     "metadata": {},
     "output_type": "execute_result"
    }
   ],
   "source": [
    "# displays all duplicate rows\n",
    "df[df.duplicated()]"
   ]
  },
  {
   "cell_type": "code",
   "execution_count": 18,
   "id": "445d0ea5-5db4-4d4a-9bcf-4c4fcfb2b21c",
   "metadata": {},
   "outputs": [],
   "source": [
    "# remove duplicates\n",
    "df.drop_duplicates(inplace=True)"
   ]
  },
  {
   "cell_type": "markdown",
   "id": "560c1098-563b-4c72-b824-0daed9389735",
   "metadata": {},
   "source": [
    "##### Now duplicates has been removed, just im checking once again my duplicates data"
   ]
  },
  {
   "cell_type": "code",
   "execution_count": 16,
   "id": "34e8f059-4c50-4f60-81e1-59adb5001036",
   "metadata": {},
   "outputs": [
    {
     "data": {
      "text/plain": [
       "0    False\n",
       "1    False\n",
       "2    False\n",
       "4    False\n",
       "6    False\n",
       "dtype: bool"
      ]
     },
     "execution_count": 16,
     "metadata": {},
     "output_type": "execute_result"
    }
   ],
   "source": [
    "df.duplicated().head()"
   ]
  },
  {
   "cell_type": "code",
   "execution_count": 17,
   "id": "113df2da-3289-4c01-a084-3026baea6d1e",
   "metadata": {},
   "outputs": [
    {
     "data": {
      "text/html": [
       "<div>\n",
       "<style scoped>\n",
       "    .dataframe tbody tr th:only-of-type {\n",
       "        vertical-align: middle;\n",
       "    }\n",
       "\n",
       "    .dataframe tbody tr th {\n",
       "        vertical-align: top;\n",
       "    }\n",
       "\n",
       "    .dataframe thead th {\n",
       "        text-align: right;\n",
       "    }\n",
       "</style>\n",
       "<table border=\"1\" class=\"dataframe\">\n",
       "  <thead>\n",
       "    <tr style=\"text-align: right;\">\n",
       "      <th></th>\n",
       "      <th>Fertilizer</th>\n",
       "      <th>temp</th>\n",
       "      <th>N</th>\n",
       "      <th>P</th>\n",
       "      <th>K</th>\n",
       "      <th>yield</th>\n",
       "    </tr>\n",
       "  </thead>\n",
       "  <tbody>\n",
       "  </tbody>\n",
       "</table>\n",
       "</div>"
      ],
      "text/plain": [
       "Empty DataFrame\n",
       "Columns: [Fertilizer, temp, N, P, K, yield]\n",
       "Index: []"
      ]
     },
     "execution_count": 17,
     "metadata": {},
     "output_type": "execute_result"
    }
   ],
   "source": [
    "# displays all duplicate rows\n",
    "df[df.duplicated()]"
   ]
  },
  {
   "cell_type": "markdown",
   "id": "2e56fea1-051b-41c5-b2b5-52a7b762e3a1",
   "metadata": {},
   "source": [
    "##### No duplicate data in my dataset now"
   ]
  },
  {
   "cell_type": "markdown",
   "id": "b2331344-2032-4e51-a4ab-03aad60af20d",
   "metadata": {},
   "source": [
    "## Check for Outliers"
   ]
  },
  {
   "cell_type": "code",
   "execution_count": 21,
   "id": "5ffc91c5-c5bf-440d-b868-9335d4d24e21",
   "metadata": {},
   "outputs": [],
   "source": [
    "import matplotlib.pyplot as plt"
   ]
  },
  {
   "cell_type": "code",
   "execution_count": 23,
   "id": "76cdc089-cf40-41c6-9585-484035a15bc3",
   "metadata": {},
   "outputs": [
    {
     "data": {
      "image/png": "[encoded data removed]",
      "text/plain": [
       "<Figure size 1000x600 with 1 Axes>"
      ]
     },
     "metadata": {},
     "output_type": "display_data"
    }
   ],
   "source": [
    "# plot boxplot for each numeric column\n",
    "df[['Fertilizer', 'temp', 'N', 'P', 'K', 'yield']].boxplot(figsize=(10,6))\n",
    "plt.title(\"Boxplots for detecting outliers\")\n",
    "plt.show()"
   ]
  },
  {
   "cell_type": "code",
   "execution_count": 26,
   "id": "510d82e2-c877-41af-898f-2e88d2a89d72",
   "metadata": {},
   "outputs": [
    {
     "name": "stdout",
     "output_type": "stream",
     "text": [
      "Empty DataFrame\n",
      "Columns: [Fertilizer, temp, N, P, K, yield]\n",
      "Index: []\n"
     ]
    }
   ],
   "source": [
    "# calculate z-scores\n",
    "z = (df - df.mean()) / df.std()\n",
    "# identify rows with outliers\n",
    "outliers = df[(np.abs(z) > 3).any(axis=1)]\n",
    "print(outliers)"
   ]
  },
  {
   "cell_type": "markdown",
   "id": "d79e0fd9-de61-416f-a9ca-8b09e94f2d56",
   "metadata": {},
   "source": [
    "##### There is no outliers in my dataset"
   ]
  },
  {
   "cell_type": "markdown",
   "id": "dbd42b79-7476-4392-93ee-b9c638bd7439",
   "metadata": {},
   "source": [
    "## Feature Scaling"
   ]
  },
  {
   "cell_type": "code",
   "execution_count": null,
   "id": "1b91021c-7340-4911-b288-b0a33b5321d7",
   "metadata": {},
   "outputs": [],
   "source": []
  }
 ],
 "metadata": {
  "kernelspec": {
   "display_name": "Python 3 (ipykernel)",
   "language": "python",
   "name": "python3"
  },
  "language_info": {
   "codemirror_mode": {
    "name": "ipython",
    "version": 3
   },
   "file_extension": ".py",
   "mimetype": "text/x-python",
   "name": "python",
   "nbconvert_exporter": "python",
   "pygments_lexer": "ipython3",
   "version": "3.13.5"
  }
 },
 "nbformat": 4,
 "nbformat_minor": 5
}
